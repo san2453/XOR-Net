{
  "nbformat": 4,
  "nbformat_minor": 0,
  "metadata": {
    "colab": {
      "provenance": []
    },
    "kernelspec": {
      "name": "python3",
      "display_name": "Python 3"
    },
    "language_info": {
      "name": "python"
    }
  },
  "cells": [
    {
      "cell_type": "code",
      "execution_count": 1,
      "metadata": {
        "id": "BNcBg6pTpIxu"
      },
      "outputs": [],
      "source": [
        "import numpy as np\n",
        "from collections import OrderedDict\n",
        "import matplotlib.pyplot as plt\n",
        "from mpl_toolkits.mplot3d import Axes3D\n",
        "import torch\n",
        "from tqdm import tqdm\n",
        "from torch import nn, optim\n",
        "from torch.nn import functional as F\n",
        "from torch.nn.parameter import Parameter\n",
        "from torch import FloatTensor\n",
        "from torch.autograd import Variable"
      ]
    },
    {
      "cell_type": "code",
      "source": [
        "EPOCHS_TO_TRAIN = 5000\n",
        "class XOR(nn.Module):\n",
        "    def __init__(self, initialize=False):\n",
        "      super(XOR, self).__init__()\n",
        "      self.fc1 = nn.Linear(2, 2, True)\n",
        "      self.fc2 = nn.Linear(2, 1, True)\n",
        "      if initialize:\n",
        "        self.weights_initialization()\n",
        "\n",
        "    def weights_initialization(self): # Unindent this method to be at the same level as forward\n",
        "      with torch.no_grad():\n",
        "        self.fc1.weight.copy_(torch.tensor([[-1, 1], [1, -1]], dtype=torch.float))\n",
        "        self.fc1.bias.copy_(torch.tensor([0, 0], dtype=torch.float))\n",
        "        self.fc2.weight.copy_(torch.tensor([1, 1], dtype=torch.float))\n",
        "        self.fc2.bias.copy_(torch.tensor([0], dtype=torch.float))\n",
        "\n",
        "    def forward(self, x): # The forward method starts here\n",
        "      x = F.relu(self.fc1(x))\n",
        "      x = self.fc2(x)\n",
        "      return x\n",
        "\n",
        "\n",
        "\n",
        "model = XOR(True)\n",
        "x = list(map(lambda s: Variable(torch.Tensor([s])), [\n",
        " [0, 0],\n",
        " [0, 1],\n",
        " [1, 0],\n",
        " [1, 1]\n",
        "]))\n",
        "y = list(map(lambda s: Variable(torch.Tensor([s])), [\n",
        "  [0],\n",
        "  [1],\n",
        "  [1],\n",
        "  [0]\n",
        "]))"
      ],
      "metadata": {
        "id": "LVzrc6sypLLo"
      },
      "execution_count": 2,
      "outputs": []
    },
    {
      "cell_type": "code",
      "source": [
        "list(model.named_parameters())"
      ],
      "metadata": {
        "colab": {
          "base_uri": "https://localhost:8080/"
        },
        "id": "SKj72m4qpTkV",
        "outputId": "a0857e31-3f8e-43ff-caf3-7e48185e46ba"
      },
      "execution_count": 3,
      "outputs": [
        {
          "output_type": "execute_result",
          "data": {
            "text/plain": [
              "[('fc1.weight',\n",
              "  Parameter containing:\n",
              "  tensor([[-1.,  1.],\n",
              "          [ 1., -1.]], requires_grad=True)),\n",
              " ('fc1.bias',\n",
              "  Parameter containing:\n",
              "  tensor([0., 0.], requires_grad=True)),\n",
              " ('fc2.weight',\n",
              "  Parameter containing:\n",
              "  tensor([[1., 1.]], requires_grad=True)),\n",
              " ('fc2.bias',\n",
              "  Parameter containing:\n",
              "  tensor([0.], requires_grad=True))]"
            ]
          },
          "metadata": {},
          "execution_count": 3
        }
      ]
    },
    {
      "cell_type": "code",
      "source": [
        "print(\"\")\n",
        "correct = 0\n",
        "print(\"Final results:\")\n",
        "for input, target in zip(x, y):\n",
        "  output = model(input)\n",
        "  print(\"Input:[{},{}] Target:[{}] Predicted:[{}] Error:[{}]\".format(\n",
        "  int(input.data.numpy()[0][0]),\n",
        "  int(input.data.numpy()[0][1]),\n",
        "  int(target.data.numpy()),\n",
        "  round(float(output.data.numpy()), 4),\n",
        "  round(float(abs(target.data.numpy() - output.data.numpy())), 4)\n",
        "  ))\n",
        "  if target.data.numpy() == round(float(output.data.numpy()), 2):\n",
        "      correct +=1\n",
        "print(f'{correct} correct')"
      ],
      "metadata": {
        "colab": {
          "base_uri": "https://localhost:8080/"
        },
        "id": "mVx7T0PopVzZ",
        "outputId": "badb2bf2-cde8-465d-b311-f1a4324c2068"
      },
      "execution_count": 4,
      "outputs": [
        {
          "output_type": "stream",
          "name": "stdout",
          "text": [
            "\n",
            "Final results:\n",
            "Input:[0,0] Target:[0] Predicted:[0.0] Error:[0.0]\n",
            "Input:[0,1] Target:[1] Predicted:[1.0] Error:[0.0]\n",
            "Input:[1,0] Target:[1] Predicted:[1.0] Error:[0.0]\n",
            "Input:[1,1] Target:[0] Predicted:[0.0] Error:[0.0]\n",
            "4 correct\n"
          ]
        },
        {
          "output_type": "stream",
          "name": "stderr",
          "text": [
            "<ipython-input-4-303dc17a013e>:9: DeprecationWarning: Conversion of an array with ndim > 0 to a scalar is deprecated, and will error in future. Ensure you extract a single element from your array before performing this operation. (Deprecated NumPy 1.25.)\n",
            "  int(target.data.numpy()),\n",
            "<ipython-input-4-303dc17a013e>:10: DeprecationWarning: Conversion of an array with ndim > 0 to a scalar is deprecated, and will error in future. Ensure you extract a single element from your array before performing this operation. (Deprecated NumPy 1.25.)\n",
            "  round(float(output.data.numpy()), 4),\n",
            "<ipython-input-4-303dc17a013e>:11: DeprecationWarning: Conversion of an array with ndim > 0 to a scalar is deprecated, and will error in future. Ensure you extract a single element from your array before performing this operation. (Deprecated NumPy 1.25.)\n",
            "  round(float(abs(target.data.numpy() - output.data.numpy())), 4)\n",
            "<ipython-input-4-303dc17a013e>:13: DeprecationWarning: Conversion of an array with ndim > 0 to a scalar is deprecated, and will error in future. Ensure you extract a single element from your array before performing this operation. (Deprecated NumPy 1.25.)\n",
            "  if target.data.numpy() == round(float(output.data.numpy()), 2):\n"
          ]
        }
      ]
    },
    {
      "cell_type": "code",
      "source": [
        "model = XOR()"
      ],
      "metadata": {
        "id": "p2586WYHpYFj"
      },
      "execution_count": 5,
      "outputs": []
    },
    {
      "cell_type": "code",
      "source": [
        "criterion = nn.MSELoss()\n",
        "optimizer = optim.SGD(model.parameters(), lr=0.01)\n",
        "losses = []\n",
        "print(\"Training loop:\")\n",
        "for idx in tqdm(range(0, EPOCHS_TO_TRAIN)):\n",
        "  losss = []\n",
        "  for input, target in zip(x, y):\n",
        "      optimizer.zero_grad() # zero the gradient buffers\n",
        "      output = model(input)\n",
        "      loss = criterion(output, target)\n",
        "      loss.backward()\n",
        "      optimizer.step() # Does the update\n",
        "      losss.append(loss.data.numpy())\n",
        "      losses.append(np.mean(losss))\n",
        " # if idx % 100 == 0:\n",
        " # print(\"Epoch {: >8} Loss: {}\".format(idx, loss.data.numpy()))"
      ],
      "metadata": {
        "colab": {
          "base_uri": "https://localhost:8080/"
        },
        "id": "eF6kzH_bpapr",
        "outputId": "648868fd-5860-4228-e226-13e0ac454240"
      },
      "execution_count": 6,
      "outputs": [
        {
          "output_type": "stream",
          "name": "stdout",
          "text": [
            "Training loop:\n"
          ]
        },
        {
          "output_type": "stream",
          "name": "stderr",
          "text": [
            "100%|██████████| 5000/5000 [00:17<00:00, 279.89it/s]\n"
          ]
        }
      ]
    },
    {
      "cell_type": "code",
      "source": [
        "print(\"\")\n",
        "correct = 0\n",
        "print(\"Final results:\")\n",
        "for input, target in zip(x, y):\n",
        "  output = model(input)\n",
        "  print(\"Input:[{},{}] Target:[{}] Predicted:[{}] Error:[{}]\".format(\n",
        "    int(input.data.numpy()[0][0]),\n",
        "    int(input.data.numpy()[0][1]),\n",
        "    int(target.data.numpy()),\n",
        "    round(float(output.data.numpy()), 4),\n",
        "    round(float(abs(target.data.numpy() - output.data.numpy())), 4)\n",
        "  ))\n",
        "\n",
        "  if target.data.numpy() == round(float(output.data.numpy()), 2):\n",
        "      correct +=1\n",
        "print(f'{correct} correct')"
      ],
      "metadata": {
        "colab": {
          "base_uri": "https://localhost:8080/"
        },
        "id": "fFf9M8qppdUk",
        "outputId": "fb355e55-0083-4068-c9aa-8192d5b0085b"
      },
      "execution_count": 7,
      "outputs": [
        {
          "output_type": "stream",
          "name": "stdout",
          "text": [
            "\n",
            "Final results:\n",
            "Input:[0,0] Target:[0] Predicted:[0.4999] Error:[0.4999]\n",
            "Input:[0,1] Target:[1] Predicted:[0.4999] Error:[0.5001]\n",
            "Input:[1,0] Target:[1] Predicted:[0.4999] Error:[0.5001]\n",
            "Input:[1,1] Target:[0] Predicted:[0.4999] Error:[0.4999]\n",
            "0 correct\n"
          ]
        },
        {
          "output_type": "stream",
          "name": "stderr",
          "text": [
            "<ipython-input-7-b42ebab38cce>:9: DeprecationWarning: Conversion of an array with ndim > 0 to a scalar is deprecated, and will error in future. Ensure you extract a single element from your array before performing this operation. (Deprecated NumPy 1.25.)\n",
            "  int(target.data.numpy()),\n",
            "<ipython-input-7-b42ebab38cce>:10: DeprecationWarning: Conversion of an array with ndim > 0 to a scalar is deprecated, and will error in future. Ensure you extract a single element from your array before performing this operation. (Deprecated NumPy 1.25.)\n",
            "  round(float(output.data.numpy()), 4),\n",
            "<ipython-input-7-b42ebab38cce>:11: DeprecationWarning: Conversion of an array with ndim > 0 to a scalar is deprecated, and will error in future. Ensure you extract a single element from your array before performing this operation. (Deprecated NumPy 1.25.)\n",
            "  round(float(abs(target.data.numpy() - output.data.numpy())), 4)\n",
            "<ipython-input-7-b42ebab38cce>:14: DeprecationWarning: Conversion of an array with ndim > 0 to a scalar is deprecated, and will error in future. Ensure you extract a single element from your array before performing this operation. (Deprecated NumPy 1.25.)\n",
            "  if target.data.numpy() == round(float(output.data.numpy()), 2):\n"
          ]
        }
      ]
    },
    {
      "cell_type": "code",
      "source": [
        "for (name, value) in model.named_parameters():\n",
        " print(f\"{name} = {value.detach().numpy()}\")"
      ],
      "metadata": {
        "colab": {
          "base_uri": "https://localhost:8080/"
        },
        "id": "-ycj0Qpepsaz",
        "outputId": "e5c65595-d79f-408e-c0b1-3b1800b33c78"
      },
      "execution_count": 8,
      "outputs": [
        {
          "output_type": "stream",
          "name": "stdout",
          "text": [
            "fc1.weight = [[-0.16693532  0.51412386]\n",
            " [-0.22119889  0.62013286]]\n",
            "fc1.bias = [-0.66322726 -0.6834901 ]\n",
            "fc2.weight = [[-0.43084294  0.00288554]]\n",
            "fc2.bias = [0.49989748]\n"
          ]
        }
      ]
    }
  ]
}